{
 "cells": [
  {
   "cell_type": "markdown",
   "metadata": {},
   "source": [
    "# Dimensionality Reduction and other simple ML analysis\n",
    "\n",
    "Here we show some aspects of the data and do some basic statistical analysis and demonsionality reduction."
   ]
  },
  {
   "cell_type": "code",
   "execution_count": 2,
   "metadata": {},
   "outputs": [],
   "source": [
    "import rioxarray as rxr\n",
    "import matplotlib.pyplot as plt\n",
    "\n",
    "# Path to your working directory to store the images\n",
    "data_path = \"/Users/tthomas/Desktop/ESS569/MLGEO2024_MarsFans/data/ai_ready/\" # This is an example, change it to your own path"
   ]
  },
  {
   "cell_type": "code",
   "execution_count": 3,
   "metadata": {},
   "outputs": [],
   "source": [
    "blendDEM = rxr.open_rasterio(data_path + \"blendDEM_aiready.tif\", cache=False)\n",
    "blendSLOPE = rxr.open_rasterio(data_path + \"blendSLOPE_aiready.tif\", cache=False)\n",
    "\n",
    "ctxDEM = rxr.open_rasterio(data_path + \"ctxDEM_aiready.tif\", cache=False)\n",
    "ctxIMG = rxr.open_rasterio(data_path + \"ctxIMG_aiready.tif\", cache=False)\n",
    "ctxSLOPE = rxr.open_rasterio(data_path + \"ctxSLOPE_aiready.tif\", cache=False)\n",
    "\n",
    "dayIR = rxr.open_rasterio(data_path + \"dayIR_aiready.tif\", cache=False)\n",
    "nightIR = rxr.open_rasterio(data_path + \"nightIR_aiready.tif\", cache=False)\n",
    "\n",
    "hrscND = rxr.open_rasterio(data_path + \"hrscND_aiready.tif\", cache=False)\n",
    "hrscP1 = rxr.open_rasterio(data_path + \"hrscP1_aiready.tif\", cache=False)\n",
    "hrscP2 = rxr.open_rasterio(data_path + \"hrscP2_aiready.tif\", cache=False)\n",
    "hrscS1 = rxr.open_rasterio(data_path + \"hrscS1_aiready.tif\", cache=False)\n",
    "hrscS2 = rxr.open_rasterio(data_path + \"hrscS2_aiready.tif\", cache=False)\n",
    "\n",
    "training_imgs = [blendDEM, blendSLOPE, ctxDEM, ctxIMG, ctxSLOPE, dayIR, nightIR, hrscND, hrscP1, hrscP2, hrscS1, hrscS2]\n",
    "training_names = ['blendDEM', 'blendSLOPE', 'ctxDEM', 'ctxIMG', 'ctxSLOPE', 'dayIR', 'nightIR', 'hrscND', 'hrscP1', 'hrscP2', 'hrscS1', 'hrscS2']"
   ]
  },
  {
   "cell_type": "markdown",
   "metadata": {},
   "source": [
    "## Dimensionality Reduction goes here"
   ]
  },
  {
   "cell_type": "code",
   "execution_count": null,
   "metadata": {},
   "outputs": [],
   "source": []
  },
  {
   "cell_type": "markdown",
   "metadata": {},
   "source": [
    "## Autocorrelation goes here?"
   ]
  },
  {
   "cell_type": "markdown",
   "metadata": {},
   "source": []
  }
 ],
 "metadata": {
  "kernelspec": {
   "display_name": "saha_seg",
   "language": "python",
   "name": "python3"
  },
  "language_info": {
   "codemirror_mode": {
    "name": "ipython",
    "version": 3
   },
   "file_extension": ".py",
   "mimetype": "text/x-python",
   "name": "python",
   "nbconvert_exporter": "python",
   "pygments_lexer": "ipython3",
   "version": "3.11.8"
  }
 },
 "nbformat": 4,
 "nbformat_minor": 2
}
