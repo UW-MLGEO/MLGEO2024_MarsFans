{
 "cells": [
  {
   "cell_type": "markdown",
   "metadata": {},
   "source": [
    "# An exploratory analysis and dimensionality reduction of the data\n",
    "\n",
    "Here we show some aspects of the data and do some basic statistical analysis and demonsionality reduction"
   ]
  },
  {
   "cell_type": "code",
   "execution_count": null,
   "metadata": {},
   "outputs": [],
   "source": []
  }
 ],
 "metadata": {
  "language_info": {
   "name": "python"
  }
 },
 "nbformat": 4,
 "nbformat_minor": 2
}
